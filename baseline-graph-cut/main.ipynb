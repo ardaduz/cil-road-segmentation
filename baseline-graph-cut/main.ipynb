{
 "cells": [
  {
   "cell_type": "code",
   "execution_count": 1,
   "metadata": {},
   "outputs": [],
   "source": [
    "%matplotlib inline\n",
    "import os\n",
    "import cv2\n",
    "import numpy as np\n",
    "import copy\n",
    "from sklearn.model_selection import KFold\n",
    "from sklearn.metrics import accuracy_score\n",
    "from graph_cut_segmentation import GraphCutSegmentation"
   ]
  },
  {
   "cell_type": "code",
   "execution_count": 2,
   "metadata": {},
   "outputs": [],
   "source": [
    "def load_images_to_array(directory, cv2_flag, threshold=None):\n",
    "    filenames = sorted(os.listdir(directory))\n",
    "\n",
    "    images = []\n",
    "    for filename in filenames:\n",
    "        image = cv2.imread(directory + filename, cv2_flag)\n",
    "\n",
    "        if threshold is not None:\n",
    "            _, image = cv2.threshold(image, threshold, 255, cv2.THRESH_BINARY)\n",
    "\n",
    "        image = image.tolist()\n",
    "        images.append(image)\n",
    "\n",
    "    images_array = np.asarray(images)\n",
    "    return images_array, filenames"
   ]
  },
  {
   "cell_type": "code",
   "execution_count": 3,
   "metadata": {},
   "outputs": [],
   "source": [
    "def scaledown_rgb_images(images, new_size):\n",
    "    n_image = np.size(images, 0)\n",
    "    scaled_images = np.empty((n_image, new_size, new_size, 3))\n",
    "    for i in range(0, n_image):\n",
    "        image = images[i, :, :, :].astype(np.uint8)\n",
    "        new_image = cv2.resize(image, dsize=(new_size, new_size), interpolation=cv2.INTER_LANCZOS4)\n",
    "        scaled_images[i, :, :, :] = new_image.astype(np.int32)\n",
    "    return scaled_images"
   ]
  },
  {
   "cell_type": "code",
   "execution_count": 4,
   "metadata": {},
   "outputs": [],
   "source": [
    "def scaleup_bw_images(images, new_size):\n",
    "    n_image = np.size(images, 0)\n",
    "    scaled_images = np.empty((n_image, new_size, new_size))\n",
    "    for i in range(0, n_image):\n",
    "        image = (images[i, :, :]*255).astype(np.uint8)\n",
    "        new_image = cv2.resize(image, dsize=(new_size, new_size), interpolation=cv2.INTER_LANCZOS4)\n",
    "        _, scaled_images[i, :, :] = cv2.threshold(new_image, 127, 255, cv2.THRESH_BINARY)\n",
    "        \n",
    "    return (scaled_images / 255.0)"
   ]
  },
  {
   "cell_type": "code",
   "execution_count": 5,
   "metadata": {},
   "outputs": [
    {
     "name": "stdout",
     "output_type": "stream",
     "text": [
      "Loading images...\n",
      "Loading ground-truths...\n"
     ]
    }
   ],
   "source": [
    "print(\"Loading images...\")\n",
    "images, image_filenames = load_images_to_array(\"../competition-data/training/images/\", cv2.IMREAD_COLOR, threshold=None)\n",
    "print(\"Loading ground-truths...\")\n",
    "gts, gt_filenames = load_images_to_array(\"../competition-data/training/groundtruth/\", cv2.IMREAD_GRAYSCALE, threshold=127)\n",
    "\n",
    "# print(\"Loading images...\")\n",
    "# images, image_filenames = load_images_to_array(\"../toy-data/images/\", cv2.IMREAD_COLOR, threshold=None)\n",
    "# print(\"Loading ground-truths...\")\n",
    "# gts, image_filenames = load_images_to_array(\"../toy-data/groundtruth/\", cv2.IMREAD_GRAYSCALE, threshold=127)"
   ]
  },
  {
   "cell_type": "code",
   "execution_count": 6,
   "metadata": {},
   "outputs": [],
   "source": [
    "# n_fold = 5\n",
    "\n",
    "# # parameters for training\n",
    "# histogram_resolution = 256\n",
    "\n",
    "# # parameters for prediction\n",
    "# unary_lambda_value = 1e-20\n",
    "# pairwise_sigma_value = 5\n",
    "# window_size = 9\n",
    "\n",
    "\n",
    "# n_files = np.size(images, 0)\n",
    "# indices = np.arange(0, n_files).reshape(-1, 1)\n",
    "# kf = KFold(n_fold, shuffle=True)\n",
    "# scores = []\n",
    "# models = []\n",
    "# for train_index, val_index in kf.split(indices):\n",
    "#     X_train, X_val = images[train_index], images[val_index]\n",
    "#     y_train, y_val = gts[train_index], gts[val_index]\n",
    "\n",
    "#     print(\"Training...\")\n",
    "#     GCSeg = GraphCutSegmentation(histogram_resolution, X_train, y_train)\n",
    "#     GCSeg.train()\n",
    "#     models.append(copy.deepcopy(GCSeg))\n",
    "\n",
    "#     print(\"Predicting...\")\n",
    "#     X_val = scaledown_rgb_images(X_val, 200)\n",
    "\n",
    "#     predicted_labels = GCSeg.predict(X_val, unary_lambda_value, pairwise_sigma_value, window_size, show_prediction=True)\n",
    "#     predicted_labels = scaleup_bw_images(predicted_labels, 400)\n",
    "    \n",
    "#     test_labels_flat = (y_val / 255.0).flatten()\n",
    "#     predicted_labels_flat = predicted_labels.flatten()\n",
    "#     score = accuracy_score(test_labels_flat, predicted_labels_flat)\n",
    "    \n",
    "#     scores.append(np.copy(score))"
   ]
  },
  {
   "cell_type": "code",
   "execution_count": null,
   "metadata": {},
   "outputs": [
    {
     "name": "stdout",
     "output_type": "stream",
     "text": [
      "Training...\n"
     ]
    }
   ],
   "source": [
    "# parameters for training\n",
    "histogram_resolution = 256\n",
    "\n",
    "# parameters for prediction\n",
    "unary_lambda_value = 1e-20\n",
    "pairwise_sigma_value = 5\n",
    "window_size = 9\n",
    "\n",
    "X_train = images\n",
    "y_train = gts\n",
    "X_test, test_filenames = load_images_to_array(\"../competition-data/test/\", cv2.IMREAD_COLOR, threshold=None)\n",
    "\n",
    "print(\"Training...\")\n",
    "GCSeg = GraphCutSegmentation(histogram_resolution, X_train, y_train)\n",
    "GCSeg.train()\n",
    "\n",
    "print(\"Predicting...\")\n",
    "X_test = scaledown_rgb_images(X_test, 304)\n",
    "predicted_labels = GCSeg.predict(X_test, unary_lambda_value, pairwise_sigma_value, window_size, show_prediction=True)\n",
    "predicted_labels = scaleup_bw_images(predicted_labels, 608)\n",
    "\n",
    "n_predictions = np.size(predicted_labels, 0)\n",
    "for i in range(0, n_predictions):\n",
    "    prediction = (predicted_labels[i, :, :]*255).astype(np.uint8)\n",
    "    filename = test_filenames[i]\n",
    "    cv2.imwrite(\"prediction-1-graph-cut/\" + filename, prediction)    "
   ]
  },
  {
   "cell_type": "code",
   "execution_count": null,
   "metadata": {},
   "outputs": [],
   "source": []
  }
 ],
 "metadata": {
  "kernelspec": {
   "display_name": "Python 3",
   "language": "python",
   "name": "python3"
  },
  "language_info": {
   "codemirror_mode": {
    "name": "ipython",
    "version": 3
   },
   "file_extension": ".py",
   "mimetype": "text/x-python",
   "name": "python",
   "nbconvert_exporter": "python",
   "pygments_lexer": "ipython3",
   "version": "3.6.7"
  }
 },
 "nbformat": 4,
 "nbformat_minor": 1
}
